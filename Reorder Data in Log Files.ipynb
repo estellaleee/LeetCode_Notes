{
 "cells": [
  {
   "cell_type": "markdown",
   "metadata": {},
   "source": [
    "### You have an array of logs.  Each log is a space delimited string of words.\n",
    "\n",
    "### For each log, the first word in each log is an alphanumeric identifier.  Then, either:\n",
    "\n",
    " - Each word after the identifier will consist only of lowercase letters, or;\n",
    " - Each word after the identifier will consist only of digits.\n",
    "\n",
    "### We will call these two varieties of logs letter-logs and digit-logs.  It is guaranteed that each log has at least one word after its identifier.\n",
    "\n",
    "### Reorder the logs so that all of the letter-logs come before any digit-log.  The letter-logs are ordered lexicographically ignoring identifier, with the identifier used in case of ties.  The digit-logs should be put in their original order.\n",
    "\n",
    "### Return the final order of the logs"
   ]
  },
  {
   "cell_type": "markdown",
   "metadata": {},
   "source": [
    "### Example 1:\n",
    "\n",
    "**Input**: logs = [\"dig1 8 1 5 1\",\"let1 art can\",\"dig2 3 6\",\"let2 own kit dig\",\"let3 art zero\"]\n",
    "\n",
    "**Output**: [\"let1 art can\",\"let3 art zero\",\"let2 own kit dig\",\"dig1 8 1 5 1\",\"dig2 3 6\"]"
   ]
  },
  {
   "cell_type": "markdown",
   "metadata": {},
   "source": [
    "### Constraints:\n",
    "\n",
    "1. 0 <= logs.length <= 100\n",
    "2. 3 <= logs[i].length <= 100\n",
    "3. logs[i] is guaranteed to have an identifier, and a word after the identifier."
   ]
  },
  {
   "cell_type": "code",
   "execution_count": 2,
   "metadata": {},
   "outputs": [],
   "source": [
    "def reorderLogFiles(logs):\n",
    "    letter = []\n",
    "    digit = []\n",
    "    ans = []\n",
    "    for w in logs:\n",
    "        w = w.split()\n",
    "        if w[1].isalpha():\n",
    "            letter.append(\" \".join(w[1:])+\" \"+w[0])\n",
    "        else:\n",
    "            digit.append(w[0]+\" \"+\" \".join(w[1:]))\n",
    "    letter.sort()\n",
    "    for l in letter:\n",
    "        l = l.split()\n",
    "        ans.append(\" \".join(l[-1:]+l[:-1]))\n",
    "    return ans+digit"
   ]
  },
  {
   "cell_type": "code",
   "execution_count": null,
   "metadata": {},
   "outputs": [],
   "source": []
  }
 ],
 "metadata": {
  "kernelspec": {
   "display_name": "Python 3",
   "language": "python",
   "name": "python3"
  },
  "language_info": {
   "codemirror_mode": {
    "name": "ipython",
    "version": 3
   },
   "file_extension": ".py",
   "mimetype": "text/x-python",
   "name": "python",
   "nbconvert_exporter": "python",
   "pygments_lexer": "ipython3",
   "version": "3.7.4"
  }
 },
 "nbformat": 4,
 "nbformat_minor": 2
}
