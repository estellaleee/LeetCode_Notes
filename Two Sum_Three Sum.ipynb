{
 "cells": [
  {
   "cell_type": "markdown",
   "metadata": {},
   "source": [
    "# Two Sum\n",
    "\n",
    "## Given an array of integers, return indices of the two numbers such that they add up to a specific target.\n",
    "\n",
    "## You may assume that each input would have exactly one solution, and you may not use the same element twice."
   ]
  },
  {
   "cell_type": "markdown",
   "metadata": {},
   "source": [
    "**Example**:\n",
    "\n",
    "Given nums = [2,7,11,15], target = 9\n",
    "\n",
    "Because nums[0] + nums[1] = 2 + 7 = 9, return [0,1]"
   ]
  },
  {
   "cell_type": "code",
   "execution_count": 1,
   "metadata": {},
   "outputs": [],
   "source": [
    "def twoSum(nums):\n",
    "    for i in range(len(nums)-1):\n",
    "        for j in range(i+1,len(nums)):\n",
    "            if nums[i]+nums[j] == target:\n",
    "                return [i,j]"
   ]
  },
  {
   "cell_type": "markdown",
   "metadata": {},
   "source": [
    "# Three Sum\n",
    "\n",
    "## Given an array nums of n integers, are there elements a, b, c in nums such that a + b + c = 0? Find all unique triplets in the array which gives the sum of zero."
   ]
  },
  {
   "cell_type": "markdown",
   "metadata": {},
   "source": [
    "## Note: the solution set must not contain duplicate tripltes"
   ]
  },
  {
   "cell_type": "markdown",
   "metadata": {},
   "source": [
    "**Example:**\n",
    "\n",
    "Given array nums = [-1,0,1,2,-1,-4]\n",
    "\n",
    "A solution set is [[-1,0,1],[-1,-1,2]]"
   ]
  },
  {
   "cell_type": "markdown",
   "metadata": {},
   "source": [
    "**Time limit exceeded**"
   ]
  },
  {
   "cell_type": "code",
   "execution_count": 2,
   "metadata": {},
   "outputs": [],
   "source": [
    "def threeSum(nums):\n",
    "    ans = []\n",
    "    nums.sort()\n",
    "    for i in range(len(nums)-2):\n",
    "        for j in range(i+1, len(nums)-1):\n",
    "            for z in range(j+1, len(nums)):\n",
    "                if nums[i] + nums[j] + nums[z] == 0:\n",
    "                    if (sorted([nums[i],nums[j],nums[z]])) not in ans:\n",
    "                        ans.append([nums[i],nums[j],nums[z]])\n",
    "                    else:\n",
    "                        pass\n",
    "    return ans"
   ]
  },
  {
   "cell_type": "markdown",
   "metadata": {},
   "source": [
    "**Revised**"
   ]
  },
  {
   "cell_type": "code",
   "execution_count": 3,
   "metadata": {},
   "outputs": [],
   "source": [
    "def threeSum(nums):\n",
    "    ans = set()\n",
    "    nums.sort()\n",
    "    for c in range(len(nums)-1):\n",
    "        l = 0\n",
    "        r = len(nums)-1\n",
    "        while l <c and c < r:\n",
    "            temp = nums[l] + nums[c] + nums[r]\n",
    "            if temp == 0:\n",
    "                if (nums[l],nums[c],nums[r]) not in ans:\n",
    "                    ans.add((nums[l],nums[c],nums[r]))\n",
    "                l+=1\n",
    "                r-=1\n",
    "            elif temp > 0:\n",
    "                r-=1\n",
    "            else:\n",
    "                l+=1\n",
    "    return list(ans)"
   ]
  },
  {
   "cell_type": "code",
   "execution_count": null,
   "metadata": {},
   "outputs": [],
   "source": []
  }
 ],
 "metadata": {
  "kernelspec": {
   "display_name": "Python 3",
   "language": "python",
   "name": "python3"
  },
  "language_info": {
   "codemirror_mode": {
    "name": "ipython",
    "version": 3
   },
   "file_extension": ".py",
   "mimetype": "text/x-python",
   "name": "python",
   "nbconvert_exporter": "python",
   "pygments_lexer": "ipython3",
   "version": "3.7.4"
  }
 },
 "nbformat": 4,
 "nbformat_minor": 2
}
